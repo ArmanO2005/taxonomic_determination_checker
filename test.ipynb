{
 "cells": [
  {
   "cell_type": "code",
   "execution_count": 1,
   "id": "1dbd10be",
   "metadata": {},
   "outputs": [],
   "source": [
    "from kew_loader_utils import *\n",
    "from tree_loader import *\n",
    "from csv_utils import *\n",
    "import pandas as pd"
   ]
  },
  {
   "cell_type": "code",
   "execution_count": 2,
   "id": "9b6c2c51",
   "metadata": {},
   "outputs": [],
   "source": [
    "path_to_data = \"Kew_Data/wcvp_taxon.csv\""
   ]
  },
  {
   "cell_type": "code",
   "execution_count": 3,
   "id": "0b0ff594",
   "metadata": {},
   "outputs": [],
   "source": [
    "kew_data = load_kew_data(path_to_data)"
   ]
  },
  {
   "cell_type": "code",
   "execution_count": 4,
   "id": "43c406f7",
   "metadata": {},
   "outputs": [],
   "source": [
    "sample = pd.read_csv(\"Input_Data/taxon_to_add.csv\")\n",
    "sample = pd.Series(sample['name'])"
   ]
  },
  {
   "cell_type": "markdown",
   "id": "aedb2804",
   "metadata": {},
   "source": [
    "### Load Tree!!!!!! "
   ]
  },
  {
   "cell_type": "code",
   "execution_count": 5,
   "id": "c64baff7",
   "metadata": {},
   "outputs": [
    {
     "name": "stdout",
     "output_type": "stream",
     "text": [
      "[('azara', 0), ('amaria', 2), ('acarna', 2), ('abama', 2), ('afarca', 2), ('asarca', 2), ('zaa', 2), ('azima', 2), ('aziza', 2), ('azamara', 2), ('azedara', 2), ('arizara', 2), ('aimara', 2), ('abdra', 2)]\n",
      "[('seris', 1), ('senites', 2), ('steris', 2)]\n",
      "[('c', 1), ('bia', 2), ('aa', 2), ('io', 2), ('bau', 2)]\n",
      "[]\n"
     ]
    },
    {
     "ename": "IndexError",
     "evalue": "list index out of range",
     "output_type": "error",
     "traceback": [
      "\u001b[31m---------------------------------------------------------------------------\u001b[39m",
      "\u001b[31mIndexError\u001b[39m                                Traceback (most recent call last)",
      "\u001b[36mCell\u001b[39m\u001b[36m \u001b[39m\u001b[32mIn[5]\u001b[39m\u001b[32m, line 2\u001b[39m\n\u001b[32m      1\u001b[39m search_tree = kew_tree(kew_data)\n\u001b[32m----> \u001b[39m\u001b[32m2\u001b[39m \u001b[43msearch_tree\u001b[49m\u001b[43m.\u001b[49m\u001b[43mbuild\u001b[49m\u001b[43m(\u001b[49m\u001b[43mprune\u001b[49m\u001b[43m=\u001b[49m\u001b[43msample\u001b[49m\u001b[43m)\u001b[49m\n",
      "\u001b[36mFile \u001b[39m\u001b[32mc:\\Users\\arman\\Dropbox\\UC_Botanical_Garden\\Determination_Checker\\tree_loader.py:41\u001b[39m, in \u001b[36mkew_tree.build\u001b[39m\u001b[34m(self, prune)\u001b[39m\n\u001b[32m     39\u001b[39m matched_genus = sortOutput(matches)\n\u001b[32m     40\u001b[39m \u001b[38;5;28mprint\u001b[39m(matched_genus)\n\u001b[32m---> \u001b[39m\u001b[32m41\u001b[39m matched_genus = \u001b[43mmatched_genus\u001b[49m\u001b[43m[\u001b[49m\u001b[32;43m0\u001b[39;49m\u001b[43m]\u001b[49m[\u001b[32m0\u001b[39m]\n\u001b[32m     42\u001b[39m checked_prune_genera.append(matched_genus)\n\u001b[32m     43\u001b[39m genera_list = checked_prune_genera\n",
      "\u001b[31mIndexError\u001b[39m: list index out of range"
     ]
    }
   ],
   "source": [
    "search_tree = kew_tree(kew_data)\n",
    "search_tree.build(prune=sample)"
   ]
  },
  {
   "cell_type": "code",
   "execution_count": null,
   "id": "12583787",
   "metadata": {},
   "outputs": [
    {
     "data": {
      "text/plain": [
       "'acacia edgeworthii'"
      ]
     },
     "execution_count": 6,
     "metadata": {},
     "output_type": "execute_result"
    }
   ],
   "source": [
    "search_tree.query('Acacia edgeworthii', error_dist_genus=2, error_dist_species=2)"
   ]
  },
  {
   "cell_type": "code",
   "execution_count": null,
   "id": "0f86a735",
   "metadata": {},
   "outputs": [],
   "source": [
    "update_determinations(\"Input_Data/taxon_to_add.csv\", search_tree)"
   ]
  }
 ],
 "metadata": {
  "kernelspec": {
   "display_name": "BK_Tree_Env",
   "language": "python",
   "name": "python3"
  },
  "language_info": {
   "codemirror_mode": {
    "name": "ipython",
    "version": 3
   },
   "file_extension": ".py",
   "mimetype": "text/x-python",
   "name": "python",
   "nbconvert_exporter": "python",
   "pygments_lexer": "ipython3",
   "version": "3.13.5"
  }
 },
 "nbformat": 4,
 "nbformat_minor": 5
}
