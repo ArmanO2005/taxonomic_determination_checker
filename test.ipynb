{
 "cells": [
  {
   "cell_type": "code",
   "execution_count": 1,
   "id": "1dbd10be",
   "metadata": {},
   "outputs": [],
   "source": [
    "from kew_loader_utils import *\n",
    "from tree_loader import *\n",
    "from csv_utils import *\n",
    "import pandas as pd"
   ]
  },
  {
   "cell_type": "code",
   "execution_count": 2,
   "id": "9b6c2c51",
   "metadata": {},
   "outputs": [],
   "source": [
    "path_to_data = \"Kew_Data/wcvp_taxon.csv\""
   ]
  },
  {
   "cell_type": "code",
   "execution_count": 3,
   "id": "0b0ff594",
   "metadata": {},
   "outputs": [],
   "source": [
    "kew_data = load_kew_data(path_to_data)"
   ]
  },
  {
   "cell_type": "markdown",
   "id": "aedb2804",
   "metadata": {},
   "source": [
    "### Load Tree!!!!!! "
   ]
  },
  {
   "cell_type": "code",
   "execution_count": 4,
   "id": "c64baff7",
   "metadata": {},
   "outputs": [],
   "source": [
    "search_tree = kew_tree(kew_data)\n",
    "search_tree.build()"
   ]
  },
  {
   "cell_type": "code",
   "execution_count": 5,
   "id": "0f86a735",
   "metadata": {},
   "outputs": [],
   "source": [
    "update_determinations(\"Input_Data/taxon_to_add.csv\", search_tree)"
   ]
  }
 ],
 "metadata": {
  "kernelspec": {
   "display_name": "BK_Tree_Env",
   "language": "python",
   "name": "python3"
  },
  "language_info": {
   "codemirror_mode": {
    "name": "ipython",
    "version": 3
   },
   "file_extension": ".py",
   "mimetype": "text/x-python",
   "name": "python",
   "nbconvert_exporter": "python",
   "pygments_lexer": "ipython3",
   "version": "3.13.5"
  }
 },
 "nbformat": 4,
 "nbformat_minor": 5
}
